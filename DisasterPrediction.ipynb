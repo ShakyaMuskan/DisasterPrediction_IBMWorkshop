{
  "nbformat": 4,
  "nbformat_minor": 0,
  "metadata": {
    "colab": {
      "provenance": []
    },
    "kernelspec": {
      "name": "python3",
      "display_name": "Python 3"
    },
    "language_info": {
      "name": "python"
    }
  },
  "cells": [
    {
      "cell_type": "code",
      "execution_count": null,
      "metadata": {
        "id": "3XR2Kdqa72g-"
      },
      "outputs": [],
      "source": [
        "import numpy as np\n",
        "import tensorflow as tf\n",
        "import pandas as pd\n",
        "import time\n",
        "from datetime import datetime"
      ]
    },
    {
      "cell_type": "code",
      "source": [
        "#Extract data from CSV\n",
        "df1=pd.read_csv(\"database.csv\")"
      ],
      "metadata": {
        "id": "eBH81Pgg8Fhh"
      },
      "execution_count": null,
      "outputs": []
    },
    {
      "cell_type": "code",
      "source": [
        "epoch = datetime(1970, 1, 1)\n",
        "\n",
        "def mapdateTotime(x):\n",
        "    try:\n",
        "        dt = datetime.strptime(x, \"%m/%d/%Y\")\n",
        "    except ValueError:\n",
        "        dt = datetime.strptime(x, \"%Y-%m-%dT%H:%M:%S.%fZ\")\n",
        "    diff = dt - epoch\n",
        "    return diff.total_seconds()\n",
        "\n",
        "df1.Date = df1.Date.apply(mapdateTotime)"
      ],
      "metadata": {
        "id": "hUTd4Hx58Qfm"
      },
      "execution_count": null,
      "outputs": []
    },
    {
      "cell_type": "code",
      "source": [
        "col1 = df1[['Date','Latitude','Longitude','Depth']]\n",
        "col2 = df1['Magnitude']\n",
        "#Convert to Numpy array\n",
        "InputX1 = col1.values\n",
        "InputY1 = col2.values\n",
        "print(InputX1)"
      ],
      "metadata": {
        "colab": {
          "base_uri": "https://localhost:8080/"
        },
        "id": "Fzd13rt98RPj",
        "outputId": "c415fff3-cd73-469d-d29c-1107e5899e2c"
      },
      "execution_count": null,
      "outputs": [
        {
          "output_type": "stream",
          "name": "stdout",
          "text": [
            "[[-1.5768000e+08  1.9246000e+01  1.4561600e+02  1.3160000e+02]\n",
            " [-1.5750720e+08  1.8630000e+00  1.2735200e+02  8.0000000e+01]\n",
            " [-1.5742080e+08 -2.0579000e+01 -1.7397200e+02  2.0000000e+01]\n",
            " ...\n",
            " [ 1.4828832e+09  3.6917900e+01  1.4042620e+02  1.0000000e+01]\n",
            " [ 1.4829696e+09 -9.0283000e+00  1.1866390e+02  7.9000000e+01]\n",
            " [ 1.4830560e+09  3.7397300e+01  1.4141030e+02  1.1940000e+01]]\n"
          ]
        }
      ]
    },
    {
      "cell_type": "code",
      "source": [
        "#Min-max Normalization\n",
        "X1_min = np.amin(InputX1,0)\n",
        "X1_max = np.amax(InputX1,0)\n",
        "print(\"Mininum values:\",X1_min)\n",
        "print(\"Maximum values:\",X1_max)\n",
        "Y1_min = np.amin(InputY1)\n",
        "Y1_max = np.amax(InputY1)\n",
        "InputX1_norm = (InputX1-X1_min)/(X1_max-X1_min)\n",
        "InputY1_norm = InputY1  #No normalization in output\n",
        "\n",
        "#Reshape\n",
        "Xfeatures = 3 #Number of input features\n",
        "Yfeatures = 1 #Number of input features\n",
        "samples = 23000 # Number of samples\n",
        "\n",
        "InputX1_reshape = np.resize(InputX1_norm,(samples,Xfeatures))\n",
        "InputY1_reshape = np.resize(InputY1_norm,(samples,Yfeatures))"
      ],
      "metadata": {
        "colab": {
          "base_uri": "https://localhost:8080/"
        },
        "id": "dzAxlQtK8TE2",
        "outputId": "287a3662-1591-44bf-c594-b5d9480f3a4d"
      },
      "execution_count": null,
      "outputs": [
        {
          "output_type": "stream",
          "name": "stdout",
          "text": [
            "Mininum values: [-1.57680e+08 -7.70800e+01 -1.79997e+02 -1.10000e+00]\n",
            "Maximum values: [1.483056e+09 8.600500e+01 1.799980e+02 7.000000e+02]\n"
          ]
        }
      ]
    },
    {
      "cell_type": "code",
      "source": [
        "#Training data\n",
        "batch_size = 2000\n",
        "InputX1train = InputX1_reshape[0:batch_size,:]\n",
        "InputY1train = InputY1_reshape[0:batch_size,:]\n",
        "#Validation data\n",
        "v_size = 2500\n",
        "InputX1v = InputX1_reshape[batch_size:batch_size+v_size,:]\n",
        "InputY1v = InputY1_reshape[batch_size:batch_size+v_size,:]"
      ],
      "metadata": {
        "id": "170uEgRL8Vl2"
      },
      "execution_count": null,
      "outputs": []
    },
    {
      "cell_type": "code",
      "source": [
        "learning_rate = 0.001\n",
        "training_iterations = 1000\n",
        "display_iterations = 200"
      ],
      "metadata": {
        "id": "zt7bFXFm8X7o"
      },
      "execution_count": null,
      "outputs": []
    },
    {
      "cell_type": "code",
      "source": [
        "import tensorflow.compat.v1 as tf\n",
        "tf.disable_v2_behavior()"
      ],
      "metadata": {
        "colab": {
          "base_uri": "https://localhost:8080/"
        },
        "id": "uzaVtZtf8Z-a",
        "outputId": "fd7815ca-70a8-4dc9-f09c-326f9af4cd5c"
      },
      "execution_count": null,
      "outputs": [
        {
          "output_type": "stream",
          "name": "stderr",
          "text": [
            "WARNING:tensorflow:From /usr/local/lib/python3.10/dist-packages/tensorflow/python/compat/v2_compat.py:108: disable_resource_variables (from tensorflow.python.ops.variable_scope) is deprecated and will be removed in a future version.\n",
            "Instructions for updating:\n",
            "non-resource variables are not supported in the long term\n"
          ]
        }
      ]
    },
    {
      "cell_type": "code",
      "source": [
        "#Input\n",
        "X = tf.placeholder(tf.float32,shape=(None,Xfeatures))\n",
        "#Output\n",
        "Y = tf.placeholder(tf.float32)"
      ],
      "metadata": {
        "id": "lbBcAkbZ8b_O"
      },
      "execution_count": null,
      "outputs": []
    },
    {
      "cell_type": "code",
      "source": [
        "#Neurons\n",
        "L1 = 3\n",
        "L2 = 3\n",
        "L3 = 3\n",
        "\n",
        "#Layer1 weights\n",
        "W_fc1 = tf.Variable(tf.random_uniform([Xfeatures,L1]))\n",
        "b_fc1 = tf.Variable(tf.constant(0.1,shape=[L1]))\n",
        "\n",
        "#Layer2 weights\n",
        "W_fc2 = tf.Variable(tf.random_uniform([L1,L2]))\n",
        "b_fc2 = tf.Variable(tf.constant(0.1,shape=[L2]))\n",
        "\n",
        "#Layer3 weights\n",
        "W_fc3 = tf.Variable(tf.random_uniform([L2,L3]))\n",
        "b_fc3 = tf.Variable(tf.constant(0.1,shape=[L3]))\n",
        "\n",
        "#Output layer weights\n",
        "W_fO= tf.Variable(tf.random_uniform([L3,Yfeatures]))\n",
        "b_fO = tf.Variable(tf.constant(0.1,shape=[Yfeatures]))"
      ],
      "metadata": {
        "id": "zBHur5v_8ehl"
      },
      "execution_count": null,
      "outputs": []
    },
    {
      "cell_type": "code",
      "source": [
        "#Layer 1\n",
        "matmul_fc1=tf.matmul(X, W_fc1) + b_fc1\n",
        "h_fc1 = tf.nn.relu(matmul_fc1)   #ReLU activation\n",
        "#Layer 2\n",
        "matmul_fc2=tf.matmul(h_fc1, W_fc2) + b_fc2\n",
        "h_fc2 = tf.nn.relu(matmul_fc2)   #ReLU activation\n",
        "#Layer 3\n",
        "matmul_fc3=tf.matmul(h_fc2, W_fc3) + b_fc3\n",
        "h_fc3 = tf.nn.relu(matmul_fc3)   #ReLU activation\n",
        "#Output layer\n",
        "matmul_fc4=tf.matmul(h_fc3, W_fO) + b_fO\n",
        "output_layer = matmul_fc4  #linear activation"
      ],
      "metadata": {
        "id": "s-39s9yM8gHR"
      },
      "execution_count": null,
      "outputs": []
    },
    {
      "cell_type": "code",
      "source": [
        "#Loss function\n",
        "mean_square =  tf.reduce_mean(tf.square(Y-output_layer))\n",
        "train_step = tf.train.AdamOptimizer(learning_rate).minimize(mean_square)\n",
        "\n",
        "#Operation to save variables\n",
        "saver = tf.train.Saver()"
      ],
      "metadata": {
        "id": "y_TQvC_g8h5n"
      },
      "execution_count": null,
      "outputs": []
    },
    {
      "cell_type": "code",
      "source": [
        "#Initialization and session\n",
        "init = tf.global_variables_initializer()\n",
        "with tf.Session() as sess:\n",
        "    sess.run(init)\n",
        "    print(\"Training loss:\",sess.run([mean_square],feed_dict={X:InputX1train,Y:InputY1train}))\n",
        "    for i in range(training_iterations):\n",
        "        sess.run([train_step],feed_dict={X:InputX1train,Y:InputY1train})\n",
        "        if i%display_iterations ==0:\n",
        "            print(\"Training loss is:\",sess.run([mean_square],feed_dict={X:InputX1train,Y:InputY1train}),\"at itertion:\",i)\n",
        "            print(\"Validation loss is:\",sess.run([mean_square],feed_dict={X:InputX1v,Y:InputY1v}),\"at itertion:\",i)\n",
        "    # Save the variables to disk.\n",
        "    save_path = saver.save(sess, \"/tmp/earthquake_model.ckpt\")\n",
        "    print(\"Model saved in file: %s\" % save_path)\n",
        "\n",
        "    print(\"Final training loss:\",sess.run([mean_square],feed_dict={X:InputX1train,Y:InputY1train}))\n",
        "    print(\"Final validation loss:\",sess.run([mean_square],feed_dict={X:InputX1v,Y:InputY1v}))"
      ],
      "metadata": {
        "colab": {
          "base_uri": "https://localhost:8080/"
        },
        "id": "Hu5dm9U18j_B",
        "outputId": "87dc97bf-453b-4b37-b4cc-de11afeee354"
      },
      "execution_count": null,
      "outputs": [
        {
          "output_type": "stream",
          "name": "stdout",
          "text": [
            "Training loss: [4.0487585]\n",
            "Training loss is: [4.019938] at itertion: 0\n",
            "Validation loss is: [3.3894558] at itertion: 0\n",
            "Training loss is: [1.416232] at itertion: 200\n",
            "Validation loss is: [1.35102] at itertion: 200\n",
            "Training loss is: [0.5341862] at itertion: 400\n",
            "Validation loss is: [0.5546995] at itertion: 400\n",
            "Training loss is: [0.26588267] at itertion: 600\n",
            "Validation loss is: [0.27553067] at itertion: 600\n",
            "Training loss is: [0.2030534] at itertion: 800\n",
            "Validation loss is: [0.20763303] at itertion: 800\n",
            "Model saved in file: /tmp/earthquake_model.ckpt\n",
            "Final training loss: [0.19624487]\n",
            "Final validation loss: [0.20033762]\n"
          ]
        }
      ]
    },
    {
      "cell_type": "code",
      "source": [
        "#Testing\n",
        "lat = input(\"Enter Latitude between -77 to 86:\")\n",
        "long = input(\"Enter Longitude between -180 to 180:\")\n",
        "depth = input(\"Enter Depth between 0 to 700:\")\n",
        "date = input(\"Enter the date (Month/Day/Year format):\")\n",
        "InputX2 = np.asarray([[lat,long,depth,mapdateTotime(date)]],dtype=np.float32)\n",
        "InputX2_norm = (InputX2-X1_min)/(X1_max-X1_min)\n",
        "InputX1test = np.resize(InputX2_norm,(1,Xfeatures))\n",
        "with tf.Session() as sess:\n",
        "    # Restore variables from disk for validation.\n",
        "    saver.restore(sess, \"/tmp/earthquake_model.ckpt\")\n",
        "    print(\"Model restored.\")\n",
        "    #print(\"Final validation loss:\",sess.run([mean_square],feed_dict={X:InputX1v,Y:InputY1v}))\n",
        "    print(\"output:\",sess.run([output_layer],feed_dict={X:InputX1test}))"
      ],
      "metadata": {
        "colab": {
          "base_uri": "https://localhost:8080/"
        },
        "id": "4MVzi7Pq8plX",
        "outputId": "fe30b108-21e4-4f14-aa86-c62469deaff8"
      },
      "execution_count": null,
      "outputs": [
        {
          "output_type": "stream",
          "name": "stdout",
          "text": [
            "Enter Latitude between -77 to 86:54.67\n",
            "Enter Longitude between -180 to 180:45.56\n",
            "Enter Depth between 0 to 700:456\n",
            "Enter the date (Month/Day/Year format):12/12/1997\n",
            "Model restored.\n",
            "output: [array([[6.128114]], dtype=float32)]\n"
          ]
        }
      ]
    },
    {
      "cell_type": "code",
      "source": [],
      "metadata": {
        "id": "XG8jwKmu8sXd"
      },
      "execution_count": null,
      "outputs": []
    }
  ]
}